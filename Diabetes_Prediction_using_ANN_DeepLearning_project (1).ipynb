{
  "nbformat": 4,
  "nbformat_minor": 0,
  "metadata": {
    "colab": {
      "name": "Diabetes_Prediction_using_ANN_DeepLearning_project.ipynb",
      "provenance": [],
      "collapsed_sections": []
    },
    "kernelspec": {
      "name": "python3",
      "display_name": "Python 3"
    },
    "language_info": {
      "name": "python"
    }
  },
  "cells": [
    {
      "cell_type": "code",
      "metadata": {
        "id": "xgnIgXu4eNtf"
      },
      "source": [
        "import pandas as pd\n",
        "import numpy as np\n",
        "import seaborn as sns\n",
        "import matplotlib.pyplot as plt\n"
      ],
      "execution_count": null,
      "outputs": []
    },
    {
      "cell_type": "code",
      "metadata": {
        "id": "QlhGTASHejNC"
      },
      "source": [
        "df=pd.read_csv('/content/drive/MyDrive/Dataset/diabetes.csv')"
      ],
      "execution_count": null,
      "outputs": []
    },
    {
      "cell_type": "code",
      "metadata": {
        "colab": {
          "base_uri": "https://localhost:8080/",
          "height": 204
        },
        "id": "CjjfK6UHeo66",
        "outputId": "61085c4c-0b3c-452f-f41b-341fc5ff59ba"
      },
      "source": [
        "df.head()"
      ],
      "execution_count": null,
      "outputs": [
        {
          "output_type": "execute_result",
          "data": {
            "text/html": [
              "<div>\n",
              "<style scoped>\n",
              "    .dataframe tbody tr th:only-of-type {\n",
              "        vertical-align: middle;\n",
              "    }\n",
              "\n",
              "    .dataframe tbody tr th {\n",
              "        vertical-align: top;\n",
              "    }\n",
              "\n",
              "    .dataframe thead th {\n",
              "        text-align: right;\n",
              "    }\n",
              "</style>\n",
              "<table border=\"1\" class=\"dataframe\">\n",
              "  <thead>\n",
              "    <tr style=\"text-align: right;\">\n",
              "      <th></th>\n",
              "      <th>Pregnancies</th>\n",
              "      <th>Glucose</th>\n",
              "      <th>BloodPressure</th>\n",
              "      <th>SkinThickness</th>\n",
              "      <th>Insulin</th>\n",
              "      <th>BMI</th>\n",
              "      <th>DiabetesPedigreeFunction</th>\n",
              "      <th>Age</th>\n",
              "      <th>Outcome</th>\n",
              "    </tr>\n",
              "  </thead>\n",
              "  <tbody>\n",
              "    <tr>\n",
              "      <th>0</th>\n",
              "      <td>6</td>\n",
              "      <td>148</td>\n",
              "      <td>72</td>\n",
              "      <td>35</td>\n",
              "      <td>0</td>\n",
              "      <td>33.6</td>\n",
              "      <td>0.627</td>\n",
              "      <td>50</td>\n",
              "      <td>1</td>\n",
              "    </tr>\n",
              "    <tr>\n",
              "      <th>1</th>\n",
              "      <td>1</td>\n",
              "      <td>85</td>\n",
              "      <td>66</td>\n",
              "      <td>29</td>\n",
              "      <td>0</td>\n",
              "      <td>26.6</td>\n",
              "      <td>0.351</td>\n",
              "      <td>31</td>\n",
              "      <td>0</td>\n",
              "    </tr>\n",
              "    <tr>\n",
              "      <th>2</th>\n",
              "      <td>8</td>\n",
              "      <td>183</td>\n",
              "      <td>64</td>\n",
              "      <td>0</td>\n",
              "      <td>0</td>\n",
              "      <td>23.3</td>\n",
              "      <td>0.672</td>\n",
              "      <td>32</td>\n",
              "      <td>1</td>\n",
              "    </tr>\n",
              "    <tr>\n",
              "      <th>3</th>\n",
              "      <td>1</td>\n",
              "      <td>89</td>\n",
              "      <td>66</td>\n",
              "      <td>23</td>\n",
              "      <td>94</td>\n",
              "      <td>28.1</td>\n",
              "      <td>0.167</td>\n",
              "      <td>21</td>\n",
              "      <td>0</td>\n",
              "    </tr>\n",
              "    <tr>\n",
              "      <th>4</th>\n",
              "      <td>0</td>\n",
              "      <td>137</td>\n",
              "      <td>40</td>\n",
              "      <td>35</td>\n",
              "      <td>168</td>\n",
              "      <td>43.1</td>\n",
              "      <td>2.288</td>\n",
              "      <td>33</td>\n",
              "      <td>1</td>\n",
              "    </tr>\n",
              "  </tbody>\n",
              "</table>\n",
              "</div>"
            ],
            "text/plain": [
              "   Pregnancies  Glucose  BloodPressure  ...  DiabetesPedigreeFunction  Age  Outcome\n",
              "0            6      148             72  ...                     0.627   50        1\n",
              "1            1       85             66  ...                     0.351   31        0\n",
              "2            8      183             64  ...                     0.672   32        1\n",
              "3            1       89             66  ...                     0.167   21        0\n",
              "4            0      137             40  ...                     2.288   33        1\n",
              "\n",
              "[5 rows x 9 columns]"
            ]
          },
          "metadata": {
            "tags": []
          },
          "execution_count": 1828
        }
      ]
    },
    {
      "cell_type": "code",
      "metadata": {
        "colab": {
          "base_uri": "https://localhost:8080/",
          "height": 419
        },
        "id": "qhX1E-JZfDzn",
        "outputId": "6750273d-33aa-406e-a52d-e3dfa95aa0e5"
      },
      "source": [
        "df.isna()"
      ],
      "execution_count": null,
      "outputs": [
        {
          "output_type": "execute_result",
          "data": {
            "text/html": [
              "<div>\n",
              "<style scoped>\n",
              "    .dataframe tbody tr th:only-of-type {\n",
              "        vertical-align: middle;\n",
              "    }\n",
              "\n",
              "    .dataframe tbody tr th {\n",
              "        vertical-align: top;\n",
              "    }\n",
              "\n",
              "    .dataframe thead th {\n",
              "        text-align: right;\n",
              "    }\n",
              "</style>\n",
              "<table border=\"1\" class=\"dataframe\">\n",
              "  <thead>\n",
              "    <tr style=\"text-align: right;\">\n",
              "      <th></th>\n",
              "      <th>Pregnancies</th>\n",
              "      <th>Glucose</th>\n",
              "      <th>BloodPressure</th>\n",
              "      <th>SkinThickness</th>\n",
              "      <th>Insulin</th>\n",
              "      <th>BMI</th>\n",
              "      <th>DiabetesPedigreeFunction</th>\n",
              "      <th>Age</th>\n",
              "      <th>Outcome</th>\n",
              "    </tr>\n",
              "  </thead>\n",
              "  <tbody>\n",
              "    <tr>\n",
              "      <th>0</th>\n",
              "      <td>False</td>\n",
              "      <td>False</td>\n",
              "      <td>False</td>\n",
              "      <td>False</td>\n",
              "      <td>False</td>\n",
              "      <td>False</td>\n",
              "      <td>False</td>\n",
              "      <td>False</td>\n",
              "      <td>False</td>\n",
              "    </tr>\n",
              "    <tr>\n",
              "      <th>1</th>\n",
              "      <td>False</td>\n",
              "      <td>False</td>\n",
              "      <td>False</td>\n",
              "      <td>False</td>\n",
              "      <td>False</td>\n",
              "      <td>False</td>\n",
              "      <td>False</td>\n",
              "      <td>False</td>\n",
              "      <td>False</td>\n",
              "    </tr>\n",
              "    <tr>\n",
              "      <th>2</th>\n",
              "      <td>False</td>\n",
              "      <td>False</td>\n",
              "      <td>False</td>\n",
              "      <td>False</td>\n",
              "      <td>False</td>\n",
              "      <td>False</td>\n",
              "      <td>False</td>\n",
              "      <td>False</td>\n",
              "      <td>False</td>\n",
              "    </tr>\n",
              "    <tr>\n",
              "      <th>3</th>\n",
              "      <td>False</td>\n",
              "      <td>False</td>\n",
              "      <td>False</td>\n",
              "      <td>False</td>\n",
              "      <td>False</td>\n",
              "      <td>False</td>\n",
              "      <td>False</td>\n",
              "      <td>False</td>\n",
              "      <td>False</td>\n",
              "    </tr>\n",
              "    <tr>\n",
              "      <th>4</th>\n",
              "      <td>False</td>\n",
              "      <td>False</td>\n",
              "      <td>False</td>\n",
              "      <td>False</td>\n",
              "      <td>False</td>\n",
              "      <td>False</td>\n",
              "      <td>False</td>\n",
              "      <td>False</td>\n",
              "      <td>False</td>\n",
              "    </tr>\n",
              "    <tr>\n",
              "      <th>...</th>\n",
              "      <td>...</td>\n",
              "      <td>...</td>\n",
              "      <td>...</td>\n",
              "      <td>...</td>\n",
              "      <td>...</td>\n",
              "      <td>...</td>\n",
              "      <td>...</td>\n",
              "      <td>...</td>\n",
              "      <td>...</td>\n",
              "    </tr>\n",
              "    <tr>\n",
              "      <th>763</th>\n",
              "      <td>False</td>\n",
              "      <td>False</td>\n",
              "      <td>False</td>\n",
              "      <td>False</td>\n",
              "      <td>False</td>\n",
              "      <td>False</td>\n",
              "      <td>False</td>\n",
              "      <td>False</td>\n",
              "      <td>False</td>\n",
              "    </tr>\n",
              "    <tr>\n",
              "      <th>764</th>\n",
              "      <td>False</td>\n",
              "      <td>False</td>\n",
              "      <td>False</td>\n",
              "      <td>False</td>\n",
              "      <td>False</td>\n",
              "      <td>False</td>\n",
              "      <td>False</td>\n",
              "      <td>False</td>\n",
              "      <td>False</td>\n",
              "    </tr>\n",
              "    <tr>\n",
              "      <th>765</th>\n",
              "      <td>False</td>\n",
              "      <td>False</td>\n",
              "      <td>False</td>\n",
              "      <td>False</td>\n",
              "      <td>False</td>\n",
              "      <td>False</td>\n",
              "      <td>False</td>\n",
              "      <td>False</td>\n",
              "      <td>False</td>\n",
              "    </tr>\n",
              "    <tr>\n",
              "      <th>766</th>\n",
              "      <td>False</td>\n",
              "      <td>False</td>\n",
              "      <td>False</td>\n",
              "      <td>False</td>\n",
              "      <td>False</td>\n",
              "      <td>False</td>\n",
              "      <td>False</td>\n",
              "      <td>False</td>\n",
              "      <td>False</td>\n",
              "    </tr>\n",
              "    <tr>\n",
              "      <th>767</th>\n",
              "      <td>False</td>\n",
              "      <td>False</td>\n",
              "      <td>False</td>\n",
              "      <td>False</td>\n",
              "      <td>False</td>\n",
              "      <td>False</td>\n",
              "      <td>False</td>\n",
              "      <td>False</td>\n",
              "      <td>False</td>\n",
              "    </tr>\n",
              "  </tbody>\n",
              "</table>\n",
              "<p>768 rows × 9 columns</p>\n",
              "</div>"
            ],
            "text/plain": [
              "     Pregnancies  Glucose  ...    Age  Outcome\n",
              "0          False    False  ...  False    False\n",
              "1          False    False  ...  False    False\n",
              "2          False    False  ...  False    False\n",
              "3          False    False  ...  False    False\n",
              "4          False    False  ...  False    False\n",
              "..           ...      ...  ...    ...      ...\n",
              "763        False    False  ...  False    False\n",
              "764        False    False  ...  False    False\n",
              "765        False    False  ...  False    False\n",
              "766        False    False  ...  False    False\n",
              "767        False    False  ...  False    False\n",
              "\n",
              "[768 rows x 9 columns]"
            ]
          },
          "metadata": {
            "tags": []
          },
          "execution_count": 1829
        }
      ]
    },
    {
      "cell_type": "code",
      "metadata": {
        "id": "4onh1QsSfHS_"
      },
      "source": [
        "inputs=df.drop(['Outcome'],axis=1)"
      ],
      "execution_count": null,
      "outputs": []
    },
    {
      "cell_type": "code",
      "metadata": {
        "id": "yxcqyhUJfSfF"
      },
      "source": [
        "target=df['Outcome']"
      ],
      "execution_count": null,
      "outputs": []
    },
    {
      "cell_type": "code",
      "metadata": {
        "colab": {
          "base_uri": "https://localhost:8080/",
          "height": 390
        },
        "id": "Q7jIoNt7fX_d",
        "outputId": "c7c0bcae-2936-498b-f775-b85d05e0e682"
      },
      "source": [
        "cor = inputs.corr()\n",
        "sns.heatmap(cor, annot=True, cmap=plt.cm.CMRmap_r)\n",
        "plt.show()"
      ],
      "execution_count": null,
      "outputs": [
        {
          "output_type": "display_data",
          "data": {
            "image/png": "[encoded data removed]",
            "text/plain": [
              "<Figure size 432x288 with 2 Axes>"
            ]
          },
          "metadata": {
            "tags": [],
            "needs_background": "light"
          }
        }
      ]
    },
    {
      "cell_type": "code",
      "metadata": {
        "id": "hDbwyOGXf0E5"
      },
      "source": [
        "def correlation(dataset, threshold):\n",
        "    col_corr = set()  # Set of all the names of correlated columns\n",
        "    corr_matrix = dataset.corr()\n",
        "    for i in range(len(corr_matrix.columns)):\n",
        "        for j in range(i):\n",
        "            if abs(corr_matrix.iloc[i, j]) > threshold: # we are interested in absolute coeff value\n",
        "                colname = corr_matrix.columns[i]  # getting the name of column\n",
        "                col_corr.add(colname)\n",
        "    return col_corr"
      ],
      "execution_count": null,
      "outputs": []
    },
    {
      "cell_type": "code",
      "metadata": {
        "colab": {
          "base_uri": "https://localhost:8080/"
        },
        "id": "p5uZ2R24f266",
        "outputId": "4080f78b-8e68-40ed-b85e-ed5df982b3c2"
      },
      "source": [
        "corr_features = correlation(inputs, 0.9)\n",
        "len(set(corr_features))"
      ],
      "execution_count": null,
      "outputs": [
        {
          "output_type": "execute_result",
          "data": {
            "text/plain": [
              "0"
            ]
          },
          "metadata": {
            "tags": []
          },
          "execution_count": 1834
        }
      ]
    },
    {
      "cell_type": "code",
      "metadata": {
        "id": "2KHLkCfWf9rt"
      },
      "source": [
        "from sklearn.model_selection import train_test_split\n",
        "X_train,X_test,y_train,y_test=train_test_split(inputs,target,test_size=0.2)"
      ],
      "execution_count": null,
      "outputs": []
    },
    {
      "cell_type": "code",
      "metadata": {
        "colab": {
          "base_uri": "https://localhost:8080/"
        },
        "id": "EODLfvCqgNMl",
        "outputId": "450f77ae-d646-40c4-de38-c2160f4e8928"
      },
      "source": [
        "X_train.shape"
      ],
      "execution_count": null,
      "outputs": [
        {
          "output_type": "execute_result",
          "data": {
            "text/plain": [
              "(614, 8)"
            ]
          },
          "metadata": {
            "tags": []
          },
          "execution_count": 1836
        }
      ]
    },
    {
      "cell_type": "code",
      "metadata": {
        "colab": {
          "base_uri": "https://localhost:8080/"
        },
        "id": "PN_BSr8rjN6K",
        "outputId": "ecc6581b-af3e-4158-d6a4-98e0ef42b931"
      },
      "source": [
        "y_train.shape"
      ],
      "execution_count": null,
      "outputs": [
        {
          "output_type": "execute_result",
          "data": {
            "text/plain": [
              "(614,)"
            ]
          },
          "metadata": {
            "tags": []
          },
          "execution_count": 1837
        }
      ]
    },
    {
      "cell_type": "code",
      "metadata": {
        "colab": {
          "base_uri": "https://localhost:8080/"
        },
        "id": "yoCZtkgkj8Wn",
        "outputId": "fd13ed66-a2e5-4ced-b775-ab11c07c592f"
      },
      "source": [
        "y_test.shape\n"
      ],
      "execution_count": null,
      "outputs": [
        {
          "output_type": "execute_result",
          "data": {
            "text/plain": [
              "(154,)"
            ]
          },
          "metadata": {
            "tags": []
          },
          "execution_count": 1838
        }
      ]
    },
    {
      "cell_type": "code",
      "metadata": {
        "colab": {
          "base_uri": "https://localhost:8080/"
        },
        "id": "jT44XBv0lXhe",
        "outputId": "59ee5b9a-59ca-4794-af56-2c86b1781ab1"
      },
      "source": [
        "y_test.shape\n",
        "\n"
      ],
      "execution_count": null,
      "outputs": [
        {
          "output_type": "execute_result",
          "data": {
            "text/plain": [
              "(154,)"
            ]
          },
          "metadata": {
            "tags": []
          },
          "execution_count": 1839
        }
      ]
    },
    {
      "cell_type": "code",
      "metadata": {
        "id": "zSPpM0OZgPj1"
      },
      "source": [
        "import keras\n",
        "from keras.models import Sequential\n",
        "from keras.layers import Dense\n",
        "from keras.layers import LeakyReLU,ReLU,ELU\n",
        "from keras.layers import Dropout"
      ],
      "execution_count": null,
      "outputs": []
    },
    {
      "cell_type": "code",
      "metadata": {
        "id": "FtxXWc9NgtIN"
      },
      "source": [
        "clf=Sequential()"
      ],
      "execution_count": null,
      "outputs": []
    },
    {
      "cell_type": "code",
      "metadata": {
        "id": "5zwvQh_HgvGw"
      },
      "source": [
        "clf.add(Dense(units=10,kernel_initializer='he_uniform',activation='elu',input_dim=8))"
      ],
      "execution_count": null,
      "outputs": []
    },
    {
      "cell_type": "code",
      "metadata": {
        "id": "373Z9W2JhBfH"
      },
      "source": [
        "clf.add(Dense(units=16,kernel_initializer='he_uniform',activation='relu'))\n"
      ],
      "execution_count": null,
      "outputs": []
    },
    {
      "cell_type": "code",
      "metadata": {
        "id": "B7UwoVKSqebK"
      },
      "source": [
        "clf.add(Dense(units=20,kernel_initializer='he_uniform',activation='elu'))\n"
      ],
      "execution_count": null,
      "outputs": []
    },
    {
      "cell_type": "code",
      "metadata": {
        "id": "ecYQTKgFqe6o"
      },
      "source": [
        "clf.add(Dense(units=32,kernel_initializer='he_uniform',activation='relu'))\n"
      ],
      "execution_count": null,
      "outputs": []
    },
    {
      "cell_type": "code",
      "metadata": {
        "id": "kXEq5mH7yNEm"
      },
      "source": [
        "clf.add(Dense(units=32,kernel_initializer='he_uniform',activation='elu'))\n"
      ],
      "execution_count": null,
      "outputs": []
    },
    {
      "cell_type": "code",
      "metadata": {
        "id": "YB37pt08zOyR"
      },
      "source": [
        "clf.add(Dense(units=12,kernel_initializer='he_uniform',activation='relu'))\n"
      ],
      "execution_count": null,
      "outputs": []
    },
    {
      "cell_type": "code",
      "metadata": {
        "id": "PjeVL5TNhYF9"
      },
      "source": [
        "clf.add(Dense(units=1,kernel_initializer='glorot_uniform',activation='sigmoid'))\n"
      ],
      "execution_count": null,
      "outputs": []
    },
    {
      "cell_type": "code",
      "metadata": {
        "id": "RbLfpuuWhen1"
      },
      "source": [
        "clf.compile(optimizer='adam',loss='binary_crossentropy',metrics = ['accuracy'])\n"
      ],
      "execution_count": null,
      "outputs": []
    },
    {
      "cell_type": "code",
      "metadata": {
        "colab": {
          "base_uri": "https://localhost:8080/"
        },
        "id": "3YfW2u5GikU3",
        "outputId": "692da306-961f-4acf-cfc4-98361d5805e2"
      },
      "source": [
        "model=clf.fit(X_train,y_train,validation_split=0.33,batch_size=20,epochs=100)"
      ],
      "execution_count": null,
      "outputs": [
        {
          "output_type": "stream",
          "text": [
            "Epoch 1/100\n",
            "21/21 [==============================] - 2s 24ms/step - loss: 9.0188 - accuracy: 0.6514 - val_loss: 1.0081 - val_accuracy: 0.6798\n",
            "Epoch 2/100\n",
            "21/21 [==============================] - 0s 3ms/step - loss: 1.1170 - accuracy: 0.6374 - val_loss: 0.7375 - val_accuracy: 0.6650\n",
            "Epoch 3/100\n",
            "21/21 [==============================] - 0s 4ms/step - loss: 0.7585 - accuracy: 0.6274 - val_loss: 0.6840 - val_accuracy: 0.6601\n",
            "Epoch 4/100\n",
            "21/21 [==============================] - 0s 4ms/step - loss: 0.6626 - accuracy: 0.6651 - val_loss: 0.6665 - val_accuracy: 0.6552\n",
            "Epoch 5/100\n",
            "21/21 [==============================] - 0s 4ms/step - loss: 0.6586 - accuracy: 0.6550 - val_loss: 0.6595 - val_accuracy: 0.6552\n",
            "Epoch 6/100\n",
            "21/21 [==============================] - 0s 3ms/step - loss: 0.6456 - accuracy: 0.6643 - val_loss: 0.6663 - val_accuracy: 0.6552\n",
            "Epoch 7/100\n",
            "21/21 [==============================] - 0s 4ms/step - loss: 0.6668 - accuracy: 0.6672 - val_loss: 0.6471 - val_accuracy: 0.6601\n",
            "Epoch 8/100\n",
            "21/21 [==============================] - 0s 4ms/step - loss: 0.6599 - accuracy: 0.6262 - val_loss: 0.6426 - val_accuracy: 0.6552\n",
            "Epoch 9/100\n",
            "21/21 [==============================] - 0s 3ms/step - loss: 0.6487 - accuracy: 0.6349 - val_loss: 0.6386 - val_accuracy: 0.6552\n",
            "Epoch 10/100\n",
            "21/21 [==============================] - 0s 4ms/step - loss: 0.6272 - accuracy: 0.6721 - val_loss: 0.6345 - val_accuracy: 0.6502\n",
            "Epoch 11/100\n",
            "21/21 [==============================] - 0s 4ms/step - loss: 0.6244 - accuracy: 0.6701 - val_loss: 0.6404 - val_accuracy: 0.7044\n",
            "Epoch 12/100\n",
            "21/21 [==============================] - 0s 4ms/step - loss: 0.6237 - accuracy: 0.6907 - val_loss: 0.6220 - val_accuracy: 0.6700\n",
            "Epoch 13/100\n",
            "21/21 [==============================] - 0s 4ms/step - loss: 0.6309 - accuracy: 0.6596 - val_loss: 0.6165 - val_accuracy: 0.6700\n",
            "Epoch 14/100\n",
            "21/21 [==============================] - 0s 3ms/step - loss: 0.6332 - accuracy: 0.6557 - val_loss: 0.6143 - val_accuracy: 0.6700\n",
            "Epoch 15/100\n",
            "21/21 [==============================] - 0s 3ms/step - loss: 0.5853 - accuracy: 0.7019 - val_loss: 0.5950 - val_accuracy: 0.6995\n",
            "Epoch 16/100\n",
            "21/21 [==============================] - 0s 4ms/step - loss: 0.5853 - accuracy: 0.6883 - val_loss: 0.6061 - val_accuracy: 0.7241\n",
            "Epoch 17/100\n",
            "21/21 [==============================] - 0s 3ms/step - loss: 0.5812 - accuracy: 0.7327 - val_loss: 0.5914 - val_accuracy: 0.7291\n",
            "Epoch 18/100\n",
            "21/21 [==============================] - 0s 4ms/step - loss: 0.6131 - accuracy: 0.6994 - val_loss: 0.5747 - val_accuracy: 0.6897\n",
            "Epoch 19/100\n",
            "21/21 [==============================] - 0s 4ms/step - loss: 0.5865 - accuracy: 0.7149 - val_loss: 0.5783 - val_accuracy: 0.7389\n",
            "Epoch 20/100\n",
            "21/21 [==============================] - 0s 4ms/step - loss: 0.5778 - accuracy: 0.7494 - val_loss: 0.5685 - val_accuracy: 0.7044\n",
            "Epoch 21/100\n",
            "21/21 [==============================] - 0s 3ms/step - loss: 0.5673 - accuracy: 0.7066 - val_loss: 0.6025 - val_accuracy: 0.7192\n",
            "Epoch 22/100\n",
            "21/21 [==============================] - 0s 3ms/step - loss: 0.5757 - accuracy: 0.7112 - val_loss: 0.6369 - val_accuracy: 0.6700\n",
            "Epoch 23/100\n",
            "21/21 [==============================] - 0s 4ms/step - loss: 0.5579 - accuracy: 0.7047 - val_loss: 0.5699 - val_accuracy: 0.7438\n",
            "Epoch 24/100\n",
            "21/21 [==============================] - 0s 3ms/step - loss: 0.5500 - accuracy: 0.7553 - val_loss: 0.5581 - val_accuracy: 0.7389\n",
            "Epoch 25/100\n",
            "21/21 [==============================] - 0s 3ms/step - loss: 0.5273 - accuracy: 0.7594 - val_loss: 0.5625 - val_accuracy: 0.7192\n",
            "Epoch 26/100\n",
            "21/21 [==============================] - 0s 3ms/step - loss: 0.5769 - accuracy: 0.6604 - val_loss: 0.5346 - val_accuracy: 0.7340\n",
            "Epoch 27/100\n",
            "21/21 [==============================] - 0s 4ms/step - loss: 0.5614 - accuracy: 0.7317 - val_loss: 0.5348 - val_accuracy: 0.7537\n",
            "Epoch 28/100\n",
            "21/21 [==============================] - 0s 4ms/step - loss: 0.5409 - accuracy: 0.7261 - val_loss: 0.5539 - val_accuracy: 0.7192\n",
            "Epoch 29/100\n",
            "21/21 [==============================] - 0s 7ms/step - loss: 0.5438 - accuracy: 0.7483 - val_loss: 0.5286 - val_accuracy: 0.7291\n",
            "Epoch 30/100\n",
            "21/21 [==============================] - 0s 3ms/step - loss: 0.4991 - accuracy: 0.7652 - val_loss: 0.5096 - val_accuracy: 0.7488\n",
            "Epoch 31/100\n",
            "21/21 [==============================] - 0s 4ms/step - loss: 0.5304 - accuracy: 0.7195 - val_loss: 0.5461 - val_accuracy: 0.7438\n",
            "Epoch 32/100\n",
            "21/21 [==============================] - 0s 4ms/step - loss: 0.5847 - accuracy: 0.7097 - val_loss: 0.5148 - val_accuracy: 0.7783\n",
            "Epoch 33/100\n",
            "21/21 [==============================] - 0s 3ms/step - loss: 0.5469 - accuracy: 0.7301 - val_loss: 0.5095 - val_accuracy: 0.7438\n",
            "Epoch 34/100\n",
            "21/21 [==============================] - 0s 4ms/step - loss: 0.5160 - accuracy: 0.7535 - val_loss: 0.4974 - val_accuracy: 0.7586\n",
            "Epoch 35/100\n",
            "21/21 [==============================] - 0s 3ms/step - loss: 0.5283 - accuracy: 0.7716 - val_loss: 0.5206 - val_accuracy: 0.7192\n",
            "Epoch 36/100\n",
            "21/21 [==============================] - 0s 4ms/step - loss: 0.5452 - accuracy: 0.7148 - val_loss: 0.5889 - val_accuracy: 0.7143\n",
            "Epoch 37/100\n",
            "21/21 [==============================] - 0s 3ms/step - loss: 0.5934 - accuracy: 0.7282 - val_loss: 0.5196 - val_accuracy: 0.7389\n",
            "Epoch 38/100\n",
            "21/21 [==============================] - 0s 4ms/step - loss: 0.5152 - accuracy: 0.7640 - val_loss: 0.5074 - val_accuracy: 0.7488\n",
            "Epoch 39/100\n",
            "21/21 [==============================] - 0s 3ms/step - loss: 0.5215 - accuracy: 0.7421 - val_loss: 0.5147 - val_accuracy: 0.7635\n",
            "Epoch 40/100\n",
            "21/21 [==============================] - 0s 4ms/step - loss: 0.5094 - accuracy: 0.7682 - val_loss: 0.5348 - val_accuracy: 0.7389\n",
            "Epoch 41/100\n",
            "21/21 [==============================] - 0s 4ms/step - loss: 0.5174 - accuracy: 0.7501 - val_loss: 0.5075 - val_accuracy: 0.7340\n",
            "Epoch 42/100\n",
            "21/21 [==============================] - 0s 4ms/step - loss: 0.5230 - accuracy: 0.7296 - val_loss: 0.5005 - val_accuracy: 0.7340\n",
            "Epoch 43/100\n",
            "21/21 [==============================] - 0s 3ms/step - loss: 0.5347 - accuracy: 0.7224 - val_loss: 0.5372 - val_accuracy: 0.7044\n",
            "Epoch 44/100\n",
            "21/21 [==============================] - 0s 3ms/step - loss: 0.5123 - accuracy: 0.7620 - val_loss: 0.4995 - val_accuracy: 0.7635\n",
            "Epoch 45/100\n",
            "21/21 [==============================] - 0s 3ms/step - loss: 0.4922 - accuracy: 0.7591 - val_loss: 0.5001 - val_accuracy: 0.7389\n",
            "Epoch 46/100\n",
            "21/21 [==============================] - 0s 3ms/step - loss: 0.5086 - accuracy: 0.7544 - val_loss: 0.4995 - val_accuracy: 0.7488\n",
            "Epoch 47/100\n",
            "21/21 [==============================] - 0s 3ms/step - loss: 0.4657 - accuracy: 0.7818 - val_loss: 0.5252 - val_accuracy: 0.7389\n",
            "Epoch 48/100\n",
            "21/21 [==============================] - 0s 4ms/step - loss: 0.4752 - accuracy: 0.7729 - val_loss: 0.5295 - val_accuracy: 0.7389\n",
            "Epoch 49/100\n",
            "21/21 [==============================] - 0s 3ms/step - loss: 0.4975 - accuracy: 0.7531 - val_loss: 0.5122 - val_accuracy: 0.7586\n",
            "Epoch 50/100\n",
            "21/21 [==============================] - 0s 4ms/step - loss: 0.4924 - accuracy: 0.7561 - val_loss: 0.5236 - val_accuracy: 0.7438\n",
            "Epoch 51/100\n",
            "21/21 [==============================] - 0s 3ms/step - loss: 0.5183 - accuracy: 0.7347 - val_loss: 0.5202 - val_accuracy: 0.7389\n",
            "Epoch 52/100\n",
            "21/21 [==============================] - 0s 3ms/step - loss: 0.4655 - accuracy: 0.7738 - val_loss: 0.5560 - val_accuracy: 0.7488\n",
            "Epoch 53/100\n",
            "21/21 [==============================] - 0s 3ms/step - loss: 0.5326 - accuracy: 0.7250 - val_loss: 0.5538 - val_accuracy: 0.7438\n",
            "Epoch 54/100\n",
            "21/21 [==============================] - 0s 4ms/step - loss: 0.5205 - accuracy: 0.7570 - val_loss: 0.5010 - val_accuracy: 0.7488\n",
            "Epoch 55/100\n",
            "21/21 [==============================] - 0s 4ms/step - loss: 0.4960 - accuracy: 0.7693 - val_loss: 0.5010 - val_accuracy: 0.7340\n",
            "Epoch 56/100\n",
            "21/21 [==============================] - 0s 3ms/step - loss: 0.5114 - accuracy: 0.7434 - val_loss: 0.5204 - val_accuracy: 0.7291\n",
            "Epoch 57/100\n",
            "21/21 [==============================] - 0s 3ms/step - loss: 0.4695 - accuracy: 0.7765 - val_loss: 0.4987 - val_accuracy: 0.7488\n",
            "Epoch 58/100\n",
            "21/21 [==============================] - 0s 3ms/step - loss: 0.4799 - accuracy: 0.7534 - val_loss: 0.4931 - val_accuracy: 0.7488\n",
            "Epoch 59/100\n",
            "21/21 [==============================] - 0s 4ms/step - loss: 0.5260 - accuracy: 0.7551 - val_loss: 0.5117 - val_accuracy: 0.7488\n",
            "Epoch 60/100\n",
            "21/21 [==============================] - 0s 3ms/step - loss: 0.4938 - accuracy: 0.7575 - val_loss: 0.4899 - val_accuracy: 0.7488\n",
            "Epoch 61/100\n",
            "21/21 [==============================] - 0s 3ms/step - loss: 0.4737 - accuracy: 0.7888 - val_loss: 0.5086 - val_accuracy: 0.7537\n",
            "Epoch 62/100\n",
            "21/21 [==============================] - 0s 3ms/step - loss: 0.5060 - accuracy: 0.7831 - val_loss: 0.4966 - val_accuracy: 0.7389\n",
            "Epoch 63/100\n",
            "21/21 [==============================] - 0s 3ms/step - loss: 0.4379 - accuracy: 0.8007 - val_loss: 0.5273 - val_accuracy: 0.7438\n",
            "Epoch 64/100\n",
            "21/21 [==============================] - 0s 3ms/step - loss: 0.4806 - accuracy: 0.7649 - val_loss: 0.5061 - val_accuracy: 0.7241\n",
            "Epoch 65/100\n",
            "21/21 [==============================] - 0s 4ms/step - loss: 0.4846 - accuracy: 0.7700 - val_loss: 0.5193 - val_accuracy: 0.7389\n",
            "Epoch 66/100\n",
            "21/21 [==============================] - 0s 3ms/step - loss: 0.4822 - accuracy: 0.7618 - val_loss: 0.4888 - val_accuracy: 0.7586\n",
            "Epoch 67/100\n",
            "21/21 [==============================] - 0s 4ms/step - loss: 0.4660 - accuracy: 0.7852 - val_loss: 0.4965 - val_accuracy: 0.7488\n",
            "Epoch 68/100\n",
            "21/21 [==============================] - 0s 3ms/step - loss: 0.4554 - accuracy: 0.7733 - val_loss: 0.4980 - val_accuracy: 0.7438\n",
            "Epoch 69/100\n",
            "21/21 [==============================] - 0s 3ms/step - loss: 0.4718 - accuracy: 0.7762 - val_loss: 0.5022 - val_accuracy: 0.7438\n",
            "Epoch 70/100\n",
            "21/21 [==============================] - 0s 3ms/step - loss: 0.4678 - accuracy: 0.7799 - val_loss: 0.5051 - val_accuracy: 0.7488\n",
            "Epoch 71/100\n",
            "21/21 [==============================] - 0s 4ms/step - loss: 0.4959 - accuracy: 0.7576 - val_loss: 0.5169 - val_accuracy: 0.7438\n",
            "Epoch 72/100\n",
            "21/21 [==============================] - 0s 3ms/step - loss: 0.5045 - accuracy: 0.7669 - val_loss: 0.5518 - val_accuracy: 0.7340\n",
            "Epoch 73/100\n",
            "21/21 [==============================] - 0s 3ms/step - loss: 0.5027 - accuracy: 0.7435 - val_loss: 0.5128 - val_accuracy: 0.7488\n",
            "Epoch 74/100\n",
            "21/21 [==============================] - 0s 3ms/step - loss: 0.4777 - accuracy: 0.7652 - val_loss: 0.4846 - val_accuracy: 0.7635\n",
            "Epoch 75/100\n",
            "21/21 [==============================] - 0s 4ms/step - loss: 0.5244 - accuracy: 0.7388 - val_loss: 0.5081 - val_accuracy: 0.7586\n",
            "Epoch 76/100\n",
            "21/21 [==============================] - 0s 4ms/step - loss: 0.4591 - accuracy: 0.7628 - val_loss: 0.5363 - val_accuracy: 0.7340\n",
            "Epoch 77/100\n",
            "21/21 [==============================] - 0s 4ms/step - loss: 0.4718 - accuracy: 0.7739 - val_loss: 0.4821 - val_accuracy: 0.7685\n",
            "Epoch 78/100\n",
            "21/21 [==============================] - 0s 3ms/step - loss: 0.4672 - accuracy: 0.7623 - val_loss: 0.5094 - val_accuracy: 0.7438\n",
            "Epoch 79/100\n",
            "21/21 [==============================] - 0s 3ms/step - loss: 0.5196 - accuracy: 0.7382 - val_loss: 0.5457 - val_accuracy: 0.7192\n",
            "Epoch 80/100\n",
            "21/21 [==============================] - 0s 4ms/step - loss: 0.5137 - accuracy: 0.7427 - val_loss: 0.4891 - val_accuracy: 0.7438\n",
            "Epoch 81/100\n",
            "21/21 [==============================] - 0s 4ms/step - loss: 0.4838 - accuracy: 0.7540 - val_loss: 0.4987 - val_accuracy: 0.7438\n",
            "Epoch 82/100\n",
            "21/21 [==============================] - 0s 3ms/step - loss: 0.5434 - accuracy: 0.7079 - val_loss: 0.5359 - val_accuracy: 0.7537\n",
            "Epoch 83/100\n",
            "21/21 [==============================] - 0s 4ms/step - loss: 0.4352 - accuracy: 0.8121 - val_loss: 0.4848 - val_accuracy: 0.7635\n",
            "Epoch 84/100\n",
            "21/21 [==============================] - 0s 3ms/step - loss: 0.4752 - accuracy: 0.7742 - val_loss: 0.4816 - val_accuracy: 0.7586\n",
            "Epoch 85/100\n",
            "21/21 [==============================] - 0s 3ms/step - loss: 0.4755 - accuracy: 0.7644 - val_loss: 0.4883 - val_accuracy: 0.7635\n",
            "Epoch 86/100\n",
            "21/21 [==============================] - 0s 3ms/step - loss: 0.4799 - accuracy: 0.7691 - val_loss: 0.4838 - val_accuracy: 0.7635\n",
            "Epoch 87/100\n",
            "21/21 [==============================] - 0s 3ms/step - loss: 0.5043 - accuracy: 0.7505 - val_loss: 0.4831 - val_accuracy: 0.7635\n",
            "Epoch 88/100\n",
            "21/21 [==============================] - 0s 4ms/step - loss: 0.4756 - accuracy: 0.7606 - val_loss: 0.4995 - val_accuracy: 0.7488\n",
            "Epoch 89/100\n",
            "21/21 [==============================] - 0s 4ms/step - loss: 0.5375 - accuracy: 0.7394 - val_loss: 0.5133 - val_accuracy: 0.7438\n",
            "Epoch 90/100\n",
            "21/21 [==============================] - 0s 4ms/step - loss: 0.4357 - accuracy: 0.7983 - val_loss: 0.4736 - val_accuracy: 0.7734\n",
            "Epoch 91/100\n",
            "21/21 [==============================] - 0s 3ms/step - loss: 0.4804 - accuracy: 0.7626 - val_loss: 0.4899 - val_accuracy: 0.7586\n",
            "Epoch 92/100\n",
            "21/21 [==============================] - 0s 4ms/step - loss: 0.4927 - accuracy: 0.7657 - val_loss: 0.4861 - val_accuracy: 0.7635\n",
            "Epoch 93/100\n",
            "21/21 [==============================] - 0s 3ms/step - loss: 0.4886 - accuracy: 0.7678 - val_loss: 0.5652 - val_accuracy: 0.7044\n",
            "Epoch 94/100\n",
            "21/21 [==============================] - 0s 3ms/step - loss: 0.4981 - accuracy: 0.7470 - val_loss: 0.5408 - val_accuracy: 0.7291\n",
            "Epoch 95/100\n",
            "21/21 [==============================] - 0s 4ms/step - loss: 0.5337 - accuracy: 0.7425 - val_loss: 0.5253 - val_accuracy: 0.7340\n",
            "Epoch 96/100\n",
            "21/21 [==============================] - 0s 4ms/step - loss: 0.4780 - accuracy: 0.7956 - val_loss: 0.4917 - val_accuracy: 0.7488\n",
            "Epoch 97/100\n",
            "21/21 [==============================] - 0s 3ms/step - loss: 0.4999 - accuracy: 0.7652 - val_loss: 0.5072 - val_accuracy: 0.7488\n",
            "Epoch 98/100\n",
            "21/21 [==============================] - 0s 4ms/step - loss: 0.4969 - accuracy: 0.7805 - val_loss: 0.5002 - val_accuracy: 0.7488\n",
            "Epoch 99/100\n",
            "21/21 [==============================] - 0s 4ms/step - loss: 0.4900 - accuracy: 0.7688 - val_loss: 0.4672 - val_accuracy: 0.7783\n",
            "Epoch 100/100\n",
            "21/21 [==============================] - 0s 4ms/step - loss: 0.4602 - accuracy: 0.7731 - val_loss: 0.4747 - val_accuracy: 0.7586\n"
          ],
          "name": "stdout"
        }
      ]
    },
    {
      "cell_type": "code",
      "metadata": {
        "id": "w01MPvtAmKAM"
      },
      "source": [
        "y_pred=clf.predict(X_test)"
      ],
      "execution_count": null,
      "outputs": []
    },
    {
      "cell_type": "code",
      "metadata": {
        "id": "QiJTNrsPmSNs"
      },
      "source": [
        "y_pred=(y_pred>0.5)\n"
      ],
      "execution_count": null,
      "outputs": []
    },
    {
      "cell_type": "code",
      "metadata": {
        "id": "LzPI83zcmV6q"
      },
      "source": [
        "from sklearn.metrics import accuracy_score\n",
        "ac=accuracy_score(y_pred,y_test)"
      ],
      "execution_count": null,
      "outputs": []
    },
    {
      "cell_type": "code",
      "metadata": {
        "colab": {
          "base_uri": "https://localhost:8080/"
        },
        "id": "DAPY9jbynX1M",
        "outputId": "843b50a2-a90c-40d5-9326-fc9594bb014d"
      },
      "source": [
        "ac"
      ],
      "execution_count": null,
      "outputs": [
        {
          "output_type": "execute_result",
          "data": {
            "text/plain": [
              "0.7272727272727273"
            ]
          },
          "metadata": {
            "tags": []
          },
          "execution_count": 1854
        }
      ]
    }
  ]
}